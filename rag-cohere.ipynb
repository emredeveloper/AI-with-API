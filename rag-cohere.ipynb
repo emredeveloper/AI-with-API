{
  "nbformat": 4,
  "nbformat_minor": 0,
  "metadata": {
    "colab": {
      "provenance": [],
      "authorship_tag": "ABX9TyPDsmWrPg8/K4NrcQrWPZ9k",
      "include_colab_link": true
    },
    "kernelspec": {
      "name": "python3",
      "display_name": "Python 3"
    },
    "language_info": {
      "name": "python"
    }
  },
  "cells": [
    {
      "cell_type": "markdown",
      "metadata": {
        "id": "view-in-github",
        "colab_type": "text"
      },
      "source": [
        "<a href=\"https://colab.research.google.com/github/emredeveloper/AI-with-API/blob/main/rag-cohere.ipynb\" target=\"_parent\"><img src=\"https://colab.research.google.com/assets/colab-badge.svg\" alt=\"Open In Colab\"/></a>"
      ]
    },
    {
      "cell_type": "code",
      "source": [
        "from google.colab import userdata\n",
        "cohere_key = userdata.get('cohere')"
      ],
      "metadata": {
        "id": "8zstpUrx-XP-"
      },
      "execution_count": 32,
      "outputs": []
    },
    {
      "cell_type": "code",
      "execution_count": 48,
      "metadata": {
        "colab": {
          "base_uri": "https://localhost:8080/"
        },
        "id": "vwLB_AWF5-d4",
        "outputId": "e3ea7224-12a5-4e32-f09c-5dc1a7a0b135"
      },
      "outputs": [
        {
          "output_type": "stream",
          "name": "stdout",
          "text": [
            "{\"text\": \"This is a highly subjective question and depends on what you value in a football player. \\n\\nHere are some stats to help you decide:\\n\\n## Goals\\n- Cristiano Ronaldo has scored 804 goals in 1106 games in his entire career (0.72 goals per game). \\n- Lionel Messi\", \"generation_id\": \"819dbb71-a5f3-4d79-a413-b39b3eba1edc\", \"documents\": [], \"search_queries\": [{\"text\": \"ronaldo vs messi\", \"generation_id\": \"13b9aee3-8b71-444a-9c88-eec4686a0d61\"}], \"search_results\": [{\"search_query\": {\"text\": \"ronaldo vs messi\", \"generation_id\": \"13b9aee3-8b71-444a-9c88-eec4686a0d61\"}, \"connector\": {\"id\": \"web-search\"}, \"document_ids\": [\"web-search_0\", \"web-search_1\", \"web-search_2\", \"web-search_3\", \"web-search_4\", \"web-search_5\"]}], \"finish_reason\": \"MAX_TOKENS\", \"chat_history\": [{\"message\": \"Ronaldo mu messi mi?\", \"role\": \"USER\"}, {\"message\": \"This is a highly subjective question and depends on what you value in a football player. \\n\\nHere are some stats to help you decide:\\n\\n## Goals\\n- Cristiano Ronaldo has scored 804 goals in 1106 games in his entire career (0.72 goals per game). \\n- Lionel Messi\", \"role\": \"CHATBOT\"}], \"meta\": {\"api_version\": {\"version\": \"1\"}, \"billed_units\": {\"input_tokens\": 33678, \"output_tokens\": 73}, \"tokens\": {\"input_tokens\": 34400, \"output_tokens\": 73}}}\n"
          ]
        }
      ],
      "source": [
        "import cohere\n",
        "\n",
        "# CoHere API'sine bağlanma\n",
        "co = cohere.Client(api_key=cohere_key)\n",
        "\n",
        "# Chat mesajı ve bağlantılar\n",
        "response = co.chat(\n",
        "    model=\"command-r-plus\",\n",
        "    message=\"Ronaldo mu messi mi?\",\n",
        "    connectors=[{\"id\": \"web-search\"}],\n",
        "    max_tokens=100\n",
        ")\n",
        "\n",
        "# JSON verisi olarak çıktıyı alma\n",
        "data = response.json()\n",
        "\n",
        "# Kontrol edilen JSON yapısı\n",
        "print(data)\n",
        "\n"
      ]
    },
    {
      "cell_type": "code",
      "source": [
        "import cohere\n",
        "\n",
        "# API anahtarınızı kullanarak Cohere Client'ı oluşturun\n",
        "co = cohere.Client(api_key=cohere_key)\n",
        "\n",
        "# Chat mesajınızı gönderin ve web arama özelliklerini etkinleştirin\n",
        "response = co.chat(\n",
        "    model=\"command-r-plus\",\n",
        "    message=\"Who is more popular: Ronaldo or Messi?\",\n",
        "    connectors=[{\"id\": \"web-search\"}]\n",
        ")\n",
        "\n",
        "# Arama sorgularını yalnızca almak istediğiniz metinle sınırlayın\n",
        "if response.search_queries and response.search_queries[0]:\n",
        "    search_query_text = response.search_queries[0].text\n",
        "    print(f\"Arama Sorgusu: {search_query_text}\")\n",
        "else:\n",
        "    print(\"Arama sorgusundan metin bulunamadı.\")\n"
      ],
      "metadata": {
        "colab": {
          "base_uri": "https://localhost:8080/"
        },
        "id": "ytHMHNW67x3T",
        "outputId": "cf8bf18a-053b-46bc-8900-11007a84de95"
      },
      "execution_count": 43,
      "outputs": [
        {
          "output_type": "stream",
          "name": "stdout",
          "text": [
            "Arama Sorgusu: Who is more popular Ronaldo or Messi\n"
          ]
        }
      ]
    },
    {
      "cell_type": "code",
      "source": [
        "!pip install PyPDF2"
      ],
      "metadata": {
        "colab": {
          "base_uri": "https://localhost:8080/"
        },
        "id": "cTsdQdPV9m7Q",
        "outputId": "f2061e6d-384b-4271-b593-cffd3a3ab50d"
      },
      "execution_count": 35,
      "outputs": [
        {
          "output_type": "stream",
          "name": "stdout",
          "text": [
            "Requirement already satisfied: PyPDF2 in /usr/local/lib/python3.10/dist-packages (3.0.1)\n"
          ]
        }
      ]
    },
    {
      "cell_type": "code",
      "source": [
        "import cohere\n",
        "from PyPDF2 import PdfReader\n",
        "\n",
        "# API anahtarınızı kullanarak Cohere Client'ı oluşturun\n",
        "co = cohere.Client(api_key=cohere_key)\n",
        "\n",
        "# Burada dökümana erişim sağlamak için örnek PDF dosyanızın yolunu tanımlayın\n",
        "pdf_path = \"CihatEmreKaratas.pdf\"  # Buraya dosyanızın yolunu girin\n",
        "\n",
        "# PDF dosyasını açın ve içeriklerini okuyun\n",
        "pdf_reader = PdfReader(pdf_path)\n",
        "pdf_text = \"\"\n",
        "\n",
        "for page in pdf_reader.pages:\n",
        "    pdf_text += page.extract_text()\n",
        "\n",
        "# Chat sorgusunu gönderin ve dökümantasyonun metin içeriğini ekleyin\n",
        "response = co.chat(\n",
        "    model=\"command-r-plus\",\n",
        "    message=\"isim soyismini söyle \",\n",
        "    documents=[\n",
        "        {\n",
        "            \"title\": \"User Provided PDF Document\",\n",
        "            \"snippet\": pdf_text  # Burada PDF metni kullanılır\n",
        "        }\n",
        "    ]\n",
        ")\n",
        "\n",
        "# Çıktıyı yazdırın\n",
        "print(response.text)\n"
      ],
      "metadata": {
        "colab": {
          "base_uri": "https://localhost:8080/"
        },
        "id": "l50iSQUi9HPU",
        "outputId": "86ef324f-f378-41bb-8c5b-d21eb990048a"
      },
      "execution_count": 36,
      "outputs": [
        {
          "output_type": "stream",
          "name": "stdout",
          "text": [
            "Cihat Emre Karataş.\n"
          ]
        }
      ]
    }
  ]
}